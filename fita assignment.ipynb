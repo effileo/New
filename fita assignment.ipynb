{
 "cells": [
  {
   "cell_type": "markdown",
   "metadata": {},
   "source": [
    "1. Void Functions: Write a function that prints a greeting message. Then call this\n",
    "function three times in your program."
   ]
  },
  {
   "cell_type": "code",
   "execution_count": 99,
   "metadata": {},
   "outputs": [],
   "source": [
    "def greet( name ):\n",
    "    print(f\" Hello {name}\")"
   ]
  },
  {
   "cell_type": "code",
   "execution_count": 100,
   "metadata": {},
   "outputs": [
    {
     "name": "stdout",
     "output_type": "stream",
     "text": [
      " Hello Lemi\n",
      "None\n",
      " Hello Fita\n",
      "None\n",
      " Hello Mahi\n",
      "None\n"
     ]
    }
   ],
   "source": [
    "print(greet(name='Lemi'))\n",
    "print(greet(name='Fita'))\n",
    "print(greet(name='Mahi'))"
   ]
  },
  {
   "cell_type": "markdown",
   "metadata": {},
   "source": [
    "2. Fruitful Functions: Write a function that takes two integers as arguments and returns their product. Call this function with different pairs of numbers and print the results."
   ]
  },
  {
   "cell_type": "code",
   "execution_count": 101,
   "metadata": {},
   "outputs": [],
   "source": [
    "def product(x,y):\n",
    "    return(x*y)"
   ]
  },
  {
   "cell_type": "code",
   "execution_count": 102,
   "metadata": {},
   "outputs": [
    {
     "name": "stdout",
     "output_type": "stream",
     "text": [
      "20\n",
      "23594979\n",
      "577275\n"
     ]
    }
   ],
   "source": [
    "print(product(x=4,y=5))\n",
    "print(product(x=43453,y=543))\n",
    "print(product(x=645,y=895))"
   ]
  },
  {
   "cell_type": "markdown",
   "metadata": {},
   "source": [
    "3. Boolean Functions: Write a function that takes an integer and returns True if it is a prime number, and False otherwise. Test this function with various numbers."
   ]
  },
  {
   "cell_type": "code",
   "execution_count": 103,
   "metadata": {},
   "outputs": [],
   "source": [
    "def prime(a):\n",
    "    count = 0\n",
    "    if a == 0 or a==1:\n",
    "        return False    \n",
    "    if a == 2:\n",
    "        return True\n",
    "    for b in (2, a/2 +1):\n",
    "        if a % b == 0:\n",
    "            count = count + 1\n",
    "        else:\n",
    "            continue\n",
    "    if count >= 1:\n",
    "        return False\n",
    "    else:\n",
    "        return True"
   ]
  },
  {
   "cell_type": "code",
   "execution_count": 104,
   "metadata": {},
   "outputs": [
    {
     "ename": "ValueError",
     "evalue": "invalid literal for int() with base 10: ''",
     "output_type": "error",
     "traceback": [
      "\u001b[1;31m---------------------------------------------------------------------------\u001b[0m",
      "\u001b[1;31mValueError\u001b[0m                                Traceback (most recent call last)",
      "Cell \u001b[1;32mIn[104], line 1\u001b[0m\n\u001b[1;32m----> 1\u001b[0m \u001b[38;5;28mprint\u001b[39m(prime(\u001b[38;5;28;43mint\u001b[39;49m\u001b[43m(\u001b[49m\u001b[38;5;28;43minput\u001b[39;49m\u001b[43m(\u001b[49m\u001b[43m)\u001b[49m\u001b[43m)\u001b[49m))\n",
      "\u001b[1;31mValueError\u001b[0m: invalid literal for int() with base 10: ''"
     ]
    }
   ],
   "source": [
    "print(prime(int(input())))"
   ]
  },
  {
   "cell_type": "markdown",
   "metadata": {},
   "source": [
    "4. Recursive Functions: Write a function that returns the nth Fibonacci number using recursion. Test this function with a few different values of n."
   ]
  },
  {
   "cell_type": "code",
   "execution_count": null,
   "metadata": {},
   "outputs": [],
   "source": [
    "def fib(n):\n",
    "    if n==1 or n==2:\n",
    "        return 1\n",
    "    else:\n",
    "        return fib(n-1) + fib(n-2)"
   ]
  },
  {
   "cell_type": "code",
   "execution_count": null,
   "metadata": {},
   "outputs": [
    {
     "name": "stdout",
     "output_type": "stream",
     "text": [
      "5\n"
     ]
    }
   ],
   "source": [
    "print(fib(5))"
   ]
  },
  {
   "cell_type": "markdown",
   "metadata": {},
   "source": [
    "5. Default Parameters: Imagine you are developing a function to calculate the total cost of an order. The function should take the price of an item and the quantity as required parameters. Additionally, it should have an optional boolean parameter apply discount with a default value of False. If apply discount is True, a 10% discount should be applied to the total cost. Implement this function and demonstrate its usage with both default and non-default values for the apply discount parameter."
   ]
  },
  {
   "cell_type": "code",
   "execution_count": null,
   "metadata": {},
   "outputs": [],
   "source": [
    "def calculate_total_cost(price, quantity, apply_discount=False):\n",
    "    discount = int(price)*int(quantity) * 0.1\n",
    "    if apply_discount== False:\n",
    "        return int(price)*int(quantity)\n",
    "    else:\n",
    "        return int(price)*int(quantity) - int(discount)"
   ]
  },
  {
   "cell_type": "code",
   "execution_count": null,
   "metadata": {},
   "outputs": [
    {
     "name": "stdout",
     "output_type": "stream",
     "text": [
      "80000\n",
      "72000\n"
     ]
    }
   ],
   "source": [
    "print(calculate_total_cost(price=1000, quantity=80))\n",
    "print(calculate_total_cost(price=1000, quantity=80, apply_discount=True))"
   ]
  },
  {
   "cell_type": "markdown",
   "metadata": {},
   "source": [
    "6. Keyword Arguments: Write a function that prints a summary of a book purchase. The function should take the title of the book, the author’s name, and the price as required parameters. Use keyword arguments to call this function with the parameters in different orders, demonstrating that the function can handle them correctly."
   ]
  },
  {
   "cell_type": "code",
   "execution_count": null,
   "metadata": {},
   "outputs": [],
   "source": [
    "def print_book_summary(title, author, price):\n",
    "    print(f\"{title}book was written by {author} and it is sold with {price} birr.\")"
   ]
  },
  {
   "cell_type": "code",
   "execution_count": null,
   "metadata": {},
   "outputs": [
    {
     "name": "stdout",
     "output_type": "stream",
     "text": [
      "Hawi book was written by Essayas Hordofa and it is sold with 300 birr.\n",
      "None\n",
      "Hawi book was written by Essayas Hordofa and it is sold with 300 birr.\n",
      "None\n",
      "Hawi book was written by Essayas Hordofa and it is sold with 300 birr.\n",
      "None\n"
     ]
    }
   ],
   "source": [
    "print(print_book_summary(title='Hawi ', author= 'Essayas Hordofa', price= 300))\n",
    "print(print_book_summary(author= 'Essayas Hordofa', title='Hawi ', price= 300))\n",
    "print(print_book_summary(price= 300, title='Hawi ', author= 'Essayas Hordofa'))"
   ]
  },
  {
   "cell_type": "markdown",
   "metadata": {},
   "source": [
    "7. Unknown Number of Parameters: Write a function that takes an unknown number of numerical arguments and returns their average. Test this function with different sets of numbers."
   ]
  },
  {
   "cell_type": "code",
   "execution_count": null,
   "metadata": {},
   "outputs": [
    {
     "name": "stdout",
     "output_type": "stream",
     "text": [
      "3.0\n"
     ]
    }
   ],
   "source": [
    "num = []\n",
    "num = input().split()\n",
    "i = 0\n",
    "for i in range(0, len(num)):\n",
    "    num[i] = int(num[i])\n",
    "def sum_numbers(num):\n",
    "    sum = 0\n",
    "    for a in num:\n",
    "        sum = sum + a\n",
    "    return sum\n",
    "def number_of_list(num):\n",
    "    cnt = 0\n",
    "    for i in num:\n",
    "        cnt = cnt + 1\n",
    "    return cnt\n",
    "def avg(num):\n",
    "    return sum_numbers(num)/number_of_list(num)\n",
    "print(avg(num))"
   ]
  },
  {
   "cell_type": "markdown",
   "metadata": {},
   "source": [
    "8. Combined Parameters: Write a function that accepts a mix of positional and keyword arguments to create a summary of a student’s performance. The function should take the student’s name as a positional argument and their scores in different subjects as keyword arguments. Call this function with various arguments to create different summaries."
   ]
  },
  {
   "cell_type": "code",
   "execution_count": null,
   "metadata": {},
   "outputs": [],
   "source": [
    "def student_performance_summary(name, **scores):\n",
    "    statement = f\"student name: {name}\\n\"\n",
    "    for subject, score in scores.items():\n",
    "        statement = statement + f\"{subject}:{score}\\n\"\n",
    "    return statement"
   ]
  },
  {
   "cell_type": "code",
   "execution_count": null,
   "metadata": {},
   "outputs": [
    {
     "name": "stdout",
     "output_type": "stream",
     "text": [
      "student name: Fita\n",
      "Math:95\n",
      "Biology:58\n",
      "Physics:44\n",
      "\n",
      "student name: Kuma\n",
      "Math:95\n",
      "Biology:90\n",
      "Physics:45\n",
      "\n",
      "student name: Roba\n",
      "Math:85\n",
      "Biology:56\n",
      "Physics:78\n",
      "\n"
     ]
    }
   ],
   "source": [
    "print(student_performance_summary(name = \"Fita\", Math=95, Biology=58, Physics=44))\n",
    "print(student_performance_summary(name = \"Kuma\", Math=95, Biology=90, Physics=45))\n",
    "print(student_performance_summary(name = \"Roba\", Math=85, Biology=56, Physics=78))"
   ]
  },
  {
   "cell_type": "markdown",
   "metadata": {},
   "source": [
    "1. Write a function that will accept two numbers and print the sum, difference, product, and quotient of the numbers."
   ]
  },
  {
   "cell_type": "code",
   "execution_count": null,
   "metadata": {},
   "outputs": [],
   "source": [
    "def operation(x, y):\n",
    "    print('the sum is:        ' + str(int( x+y)))\n",
    "    print('the product is:    ' + str(int( x*y)))\n",
    "    print('the difference is: ' + str(int( x-y)))\n",
    "    print('the quotient is:   ' + str(int( x/y)))"
   ]
  },
  {
   "cell_type": "code",
   "execution_count": null,
   "metadata": {},
   "outputs": [
    {
     "name": "stdout",
     "output_type": "stream",
     "text": [
      "the sum is:        26\n",
      "the product is:    168\n",
      "the difference is: 2\n",
      "the quotient is:   1\n",
      "None\n"
     ]
    }
   ],
   "source": [
    "print(operation(14, 12))"
   ]
  },
  {
   "cell_type": "markdown",
   "metadata": {},
   "source": [
    "2. Write a function that converts a given temperature from Celsius to Fahrenheit."
   ]
  },
  {
   "cell_type": "code",
   "execution_count": null,
   "metadata": {},
   "outputs": [],
   "source": [
    "def temp(x):\n",
    "    return 1.8*x + 32"
   ]
  },
  {
   "cell_type": "code",
   "execution_count": null,
   "metadata": {},
   "outputs": [
    {
     "name": "stdout",
     "output_type": "stream",
     "text": [
      "212\n"
     ]
    }
   ],
   "source": [
    "print(int(temp(100)))"
   ]
  },
  {
   "cell_type": "markdown",
   "metadata": {},
   "source": [
    "3. Write a function that calculates the factorial of a given number."
   ]
  },
  {
   "cell_type": "code",
   "execution_count": 105,
   "metadata": {},
   "outputs": [],
   "source": [
    "def fact(a):\n",
    "    pd = 1\n",
    "    for i in range(1, a+1):\n",
    "        pd = pd*i\n",
    "    return pd"
   ]
  },
  {
   "cell_type": "code",
   "execution_count": 106,
   "metadata": {},
   "outputs": [
    {
     "name": "stdout",
     "output_type": "stream",
     "text": [
      "3628800\n"
     ]
    }
   ],
   "source": [
    "print(fact(10))"
   ]
  },
  {
   "cell_type": "markdown",
   "metadata": {},
   "source": [
    "4. Write a function that calculates the sum of all natural numbers up to a given number."
   ]
  },
  {
   "cell_type": "code",
   "execution_count": 109,
   "metadata": {},
   "outputs": [],
   "source": [
    "def sum_n(n):\n",
    "    sum = 0\n",
    "    for i in range(1,n+1):\n",
    "        sum = sum + i\n",
    "    return sum"
   ]
  },
  {
   "cell_type": "code",
   "execution_count": 110,
   "metadata": {},
   "outputs": [
    {
     "name": "stdout",
     "output_type": "stream",
     "text": [
      "5050\n"
     ]
    }
   ],
   "source": [
    "print(sum_n(100))"
   ]
  },
  {
   "cell_type": "markdown",
   "metadata": {},
   "source": [
    "5. Write a function that calculates the sum of x^n for given x and n."
   ]
  },
  {
   "cell_type": "code",
   "execution_count": 111,
   "metadata": {},
   "outputs": [],
   "source": [
    "def exponent(x, n):\n",
    "    sum = 0\n",
    "    for i in range(1, n+1):\n",
    "        sum = sum + x**i\n",
    "    return sum"
   ]
  },
  {
   "cell_type": "code",
   "execution_count": 112,
   "metadata": {},
   "outputs": [
    {
     "name": "stdout",
     "output_type": "stream",
     "text": [
      "111111111110\n"
     ]
    }
   ],
   "source": [
    "print(exponent(10, 11))"
   ]
  },
  {
   "cell_type": "markdown",
   "metadata": {},
   "source": [
    "6. Write a function that calculates e^x using its power series representation up to the first 10 terms."
   ]
  },
  {
   "cell_type": "code",
   "execution_count": 113,
   "metadata": {},
   "outputs": [],
   "source": [
    "def factorial(n):\n",
    "    pd = 1\n",
    "    for i in range(1, n+1):\n",
    "        pd = pd*i\n",
    "    return pd"
   ]
  },
  {
   "cell_type": "code",
   "execution_count": 119,
   "metadata": {},
   "outputs": [],
   "source": [
    "def nat_exp(n):\n",
    "    sum = 0\n",
    "    x = int(input())\n",
    "    for i in range(10):\n",
    "        div = (x ** i) / factorial(i)\n",
    "        sum = sum + div\n",
    "    return sum"
   ]
  },
  {
   "cell_type": "code",
   "execution_count": 121,
   "metadata": {},
   "outputs": [
    {
     "name": "stdout",
     "output_type": "stream",
     "text": [
      "2136.226807760141\n"
     ]
    }
   ],
   "source": [
    "print(nat_exp(10))"
   ]
  },
  {
   "cell_type": "markdown",
   "metadata": {},
   "source": [
    "7. Write a function that calculates sin(x) using its power series representation up to the first 10 terms."
   ]
  },
  {
   "cell_type": "code",
   "execution_count": 140,
   "metadata": {},
   "outputs": [],
   "source": [
    "def facto(n):\n",
    "    pd = 1\n",
    "    for i in range(1, n, 2):\n",
    "        pd = pd*i\n",
    "    return pd"
   ]
  },
  {
   "cell_type": "code",
   "execution_count": 151,
   "metadata": {},
   "outputs": [],
   "source": [
    "def nat_expo(x):\n",
    "    sum = 0\n",
    "    n = 10\n",
    "    for i in range(1, n, 2):\n",
    "        div = (-1)**(n)*(x ** i) / factorial(i)\n",
    "        sum = sum + div\n",
    "    return sum"
   ]
  },
  {
   "cell_type": "code",
   "execution_count": 152,
   "metadata": {},
   "outputs": [
    {
     "name": "stdout",
     "output_type": "stream",
     "text": [
      "27.173192239858906\n"
     ]
    }
   ],
   "source": [
    "print(nat_expo(4))"
   ]
  },
  {
   "cell_type": "code",
   "execution_count": 153,
   "metadata": {},
   "outputs": [],
   "source": [
    "def calculate_sin_x(x):\n",
    "    result = 0\n",
    "    for n in range(10):\n",
    "        term = ((-1) ** n) * (x ** (2 * n + 1)) / factorial(2 * n + 1)\n",
    "        result += term\n",
    "    return result\n",
    "\n",
    "def factorial(n):\n",
    "    if n == 0:\n",
    "        return 1\n",
    "    else:\n",
    "        fact = 1\n",
    "        for i in range(1, n + 1):\n",
    "            fact *= i\n",
    "        return fact\n"
   ]
  },
  {
   "cell_type": "code",
   "execution_count": 157,
   "metadata": {},
   "outputs": [
    {
     "name": "stdout",
     "output_type": "stream",
     "text": [
      "0.8414709848078965\n"
     ]
    }
   ],
   "source": [
    "print(calculate_sin_x(1))"
   ]
  }
 ],
 "metadata": {
  "kernelspec": {
   "display_name": "Python 3",
   "language": "python",
   "name": "python3"
  },
  "language_info": {
   "codemirror_mode": {
    "name": "ipython",
    "version": 3
   },
   "file_extension": ".py",
   "mimetype": "text/x-python",
   "name": "python",
   "nbconvert_exporter": "python",
   "pygments_lexer": "ipython3",
   "version": "3.12.3"
  }
 },
 "nbformat": 4,
 "nbformat_minor": 2
}
