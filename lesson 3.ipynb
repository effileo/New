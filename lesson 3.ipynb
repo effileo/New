{
 "cells": [
  {
   "cell_type": "code",
   "execution_count": 1,
   "metadata": {},
   "outputs": [
    {
     "name": "stdout",
     "output_type": "stream",
     "text": [
      "hello\n",
      "World\n"
     ]
    }
   ],
   "source": [
    "print(\"hello\\nWorld\")"
   ]
  },
  {
   "cell_type": "code",
   "execution_count": 3,
   "metadata": {},
   "outputs": [
    {
     "name": "stdout",
     "output_type": "stream",
     "text": [
      "hello\t\tWorld\n"
     ]
    }
   ],
   "source": [
    "print(\"hello\\t\\tWorld\")"
   ]
  },
  {
   "cell_type": "code",
   "execution_count": 5,
   "metadata": {},
   "outputs": [
    {
     "name": "stdout",
     "output_type": "stream",
     "text": [
      "this is backslash:\\\n"
     ]
    }
   ],
   "source": [
    "print(\"this is backslash:\\\\\")"
   ]
  },
  {
   "cell_type": "code",
   "execution_count": 7,
   "metadata": {},
   "outputs": [
    {
     "name": "stdout",
     "output_type": "stream",
     "text": [
      "He said,\"he is good\"\n"
     ]
    }
   ],
   "source": [
    "print(\"He said,\\\"he is good\\\"\")"
   ]
  },
  {
   "cell_type": "code",
   "execution_count": 8,
   "metadata": {},
   "outputs": [
    {
     "name": "stdout",
     "output_type": "stream",
     "text": [
      "world\n"
     ]
    }
   ],
   "source": [
    "print(\"hello\\rworld\")"
   ]
  },
  {
   "cell_type": "code",
   "execution_count": 9,
   "metadata": {},
   "outputs": [
    {
     "name": "stdout",
     "output_type": "stream",
     "text": [
      "hellworld\n"
     ]
    }
   ],
   "source": [
    "print(\"hello\\bworld\")"
   ]
  },
  {
   "cell_type": "code",
   "execution_count": 10,
   "metadata": {},
   "outputs": [
    {
     "name": "stdout",
     "output_type": "stream",
     "text": [
      "Hello\fworld\n"
     ]
    }
   ],
   "source": [
    "print(\"Hello\\fworld\")"
   ]
  },
  {
   "cell_type": "code",
   "execution_count": 11,
   "metadata": {},
   "outputs": [
    {
     "name": "stdout",
     "output_type": "stream",
     "text": [
      "΁\n"
     ]
    }
   ],
   "source": [
    "print(\"\\u0381\")"
   ]
  },
  {
   "cell_type": "code",
   "execution_count": 12,
   "metadata": {},
   "outputs": [
    {
     "name": "stdout",
     "output_type": "stream",
     "text": [
      "A\n"
     ]
    }
   ],
   "source": [
    "print(\"\\101\")"
   ]
  },
  {
   "cell_type": "code",
   "execution_count": 15,
   "metadata": {},
   "outputs": [
    {
     "name": "stdout",
     "output_type": "stream",
     "text": [
      "\u0007\n"
     ]
    }
   ],
   "source": [
    "print(\"\\a\")"
   ]
  },
  {
   "cell_type": "code",
   "execution_count": 18,
   "metadata": {},
   "outputs": [
    {
     "name": "stdout",
     "output_type": "stream",
     "text": [
      "hello\u000bworld\n"
     ]
    }
   ],
   "source": [
    "print(\"hello\\vworld\")"
   ]
  },
  {
   "cell_type": "code",
   "execution_count": 19,
   "metadata": {},
   "outputs": [
    {
     "name": "stdout",
     "output_type": "stream",
     "text": [
      "welcome to python\n"
     ]
    }
   ],
   "source": [
    "print('welcome' ,'to' ,'python')"
   ]
  },
  {
   "cell_type": "code",
   "execution_count": 22,
   "metadata": {},
   "outputs": [
    {
     "name": "stdout",
     "output_type": "stream",
     "text": [
      "welcome\n",
      "to\n",
      "python\n"
     ]
    }
   ],
   "source": [
    "print('welcome\\nto\\npython')"
   ]
  },
  {
   "cell_type": "code",
   "execution_count": 24,
   "metadata": {},
   "outputs": [
    {
     "name": "stdout",
     "output_type": "stream",
     "text": [
      "display \"hi\" quote\n"
     ]
    }
   ],
   "source": [
    "print('display \"hi\" quote')"
   ]
  },
  {
   "cell_type": "code",
   "execution_count": 25,
   "metadata": {},
   "outputs": [
    {
     "name": "stdout",
     "output_type": "stream",
     "text": [
      "dispaly the name O'Brein\n"
     ]
    }
   ],
   "source": [
    "print(\"dispaly the name O'Brein\")"
   ]
  },
  {
   "cell_type": "code",
   "execution_count": 26,
   "metadata": {},
   "outputs": [
    {
     "name": "stdout",
     "output_type": "stream",
     "text": [
      "display 'hi' and \"bye\" \n"
     ]
    }
   ],
   "source": [
    "print(\"\"\"display 'hi' and \"bye\" \"\"\")"
   ]
  },
  {
   "cell_type": "code",
   "execution_count": 15,
   "metadata": {},
   "outputs": [],
   "source": [
    "a=input(\"Enter the first number:\\t\")\n",
    "b=input(\"Enter the first number:\\t\")"
   ]
  },
  {
   "cell_type": "code",
   "execution_count": 6,
   "metadata": {},
   "outputs": [],
   "source": [
    "  \n",
    "F=int(input(\"Enter a number:\\t\"))\n",
    "C=int(input(\"Enter a number:\\t\"))\n",
    "F=9/5*C+32"
   ]
  },
  {
   "cell_type": "code",
   "execution_count": 7,
   "metadata": {},
   "outputs": [
    {
     "name": "stdout",
     "output_type": "stream",
     "text": [
      "149.0\n"
     ]
    }
   ],
   "source": [
    "print(F)"
   ]
  },
  {
   "cell_type": "code",
   "execution_count": 9,
   "metadata": {},
   "outputs": [],
   "source": [
    "a=int(input(\"Enter a number\"))"
   ]
  },
  {
   "cell_type": "code",
   "execution_count": 10,
   "metadata": {},
   "outputs": [
    {
     "name": "stdout",
     "output_type": "stream",
     "text": [
      "a is odd\n"
     ]
    }
   ],
   "source": [
    "if a%2==0:\n",
    "    print(\"a is even\")\n",
    "elif a%2!=0:\n",
    "    print(\"a is odd\")  \n",
    "\n",
    "   "
   ]
  },
  {
   "cell_type": "code",
   "execution_count": 20,
   "metadata": {},
   "outputs": [],
   "source": [
    "a=float(input(\"Enter a number\"))"
   ]
  },
  {
   "cell_type": "code",
   "execution_count": 22,
   "metadata": {},
   "outputs": [
    {
     "name": "stdout",
     "output_type": "stream",
     "text": [
      "D\n"
     ]
    }
   ],
   "source": [
    "if a>=90 and a<100:\n",
    "    print(\"A\")\n",
    "if a>=80 and a<90:\n",
    "    print(\"B\")\n",
    "if a>=70 and a<80:\n",
    "    print(\"C\")\n",
    "if a>50 and a<70:\n",
    "    print(\"D\")\n",
    "if a<=50:\n",
    "    print(\"F\")            "
   ]
  },
  {
   "cell_type": "code",
   "execution_count": 64,
   "metadata": {},
   "outputs": [
    {
     "name": "stdout",
     "output_type": "stream",
     "text": [
      "6 is not prime\n"
     ]
    }
   ],
   "source": [
    "a=int(input(\"Enter a number\"))\n",
    "count=0\n",
    "for i in range(1,a+1):\n",
    "    if a%i==0:\n",
    "        count+=1\n",
    "    if count>2:\n",
    "        print(a,\"is not prime\")\n",
    "        break\n",
    "if count==2:\n",
    "    print(a,\"is prime\")        \n",
    "\n"
   ]
  },
  {
   "cell_type": "code",
   "execution_count": 63,
   "metadata": {},
   "outputs": [
    {
     "name": "stdout",
     "output_type": "stream",
     "text": [
      "you lost\n"
     ]
    }
   ],
   "source": [
    "import random\n",
    "z= random.randint(1,100)\n",
    "a=int(input(\"Enter a number\"))\n",
    "if a==int(z):\n",
    "    print(\"you win\")\n",
    "elif a!=int(z):\n",
    "    print(\"you lost\")\n",
    "    "
   ]
  }
 ],
 "metadata": {
  "kernelspec": {
   "display_name": "Python 3",
   "language": "python",
   "name": "python3"
  },
  "language_info": {
   "codemirror_mode": {
    "name": "ipython",
    "version": 3
   },
   "file_extension": ".py",
   "mimetype": "text/x-python",
   "name": "python",
   "nbconvert_exporter": "python",
   "pygments_lexer": "ipython3",
   "version": "3.12.3"
  }
 },
 "nbformat": 4,
 "nbformat_minor": 2
}
